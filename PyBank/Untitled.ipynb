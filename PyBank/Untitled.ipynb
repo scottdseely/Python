{
 "cells": [
  {
   "cell_type": "code",
   "execution_count": 7,
   "id": "f48cedff-2b53-4d52-a852-55f23b6a3a34",
   "metadata": {},
   "outputs": [],
   "source": [
    "# import required modules\n",
    "import pathlib  # Allows to create path to data files\n",
    "import csv      # Allows to read and create data from csv files\n"
   ]
  },
  {
   "cell_type": "code",
   "execution_count": 8,
   "id": "bf55fc97-0518-42e2-b1a8-07af80c34565",
   "metadata": {},
   "outputs": [],
   "source": [
    "\n",
    "header_line=f\"    Financial Analysis of Bank Transactions\"\n",
    "dash_line=f\"--------------------------------------------------\"\n",
    "\n",
    "budget_file_path = pathlib.Path('Resources/budget_data.csv')\n",
    "\n",
    "with open(budget_file_path, newline='') as budget_file:\n",
    "    # CSV reader specifies delimiter and variable that holds contents\n",
    "    budget_reader = csv.reader(budget_file, delimiter=',')\n",
    "\n",
    "    # Read the header row first (skip this step if there is now header)\n",
    "    budget_header = next(budget_reader)\n",
    "\n",
    "    row_count=0\n",
    "    transaction_total=0\n",
    "    first_iteration=True\n",
    "    change = 0\n",
    "    change_total = 0\n",
    "    average_change = 0.0\n",
    "    max_month = ''\n",
    "    min_month = ''"
   ]
  },
  {
   "cell_type": "code",
   "execution_count": 9,
   "id": "732ec431-481a-4eac-ad44-745dae06f68c",
   "metadata": {},
   "outputs": [
    {
     "ename": "IndentationError",
     "evalue": "unexpected indent (<ipython-input-9-0c53884a2bcf>, line 2)",
     "output_type": "error",
     "traceback": [
      "\u001b[1;36m  File \u001b[1;32m\"<ipython-input-9-0c53884a2bcf>\"\u001b[1;36m, line \u001b[1;32m2\u001b[0m\n\u001b[1;33m    for row in budget_reader:\u001b[0m\n\u001b[1;37m    ^\u001b[0m\n\u001b[1;31mIndentationError\u001b[0m\u001b[1;31m:\u001b[0m unexpected indent\n"
     ]
    }
   ],
   "source": [
    " # Read each row of data after the header\n",
    "        for row in budget_reader:\n",
    "\n",
    "        # Loop through each Bank transaction row to check tha count\n",
    "        row_count=row_count + 1\n",
    "        transaction_total=transaction_total + int(row[1])\n",
    "        \n",
    "        if first_iteration:\n",
    "            # Set all initial values in the first iteration\n",
    "            first_iteration=False\n",
    "            change=0\n",
    "            change_total = 0\n",
    "            max_change=0\n",
    "            min_change=0\n",
    "            previous_transaction_amount=int(row[1])\n",
    "            current_transaction_amount = 0\n",
    "        else:\n",
    "            current_transaction_amount=int(row[1])\n",
    "            change=current_transaction_amount - previous_transaction_amount\n",
    "            change_total += change\n",
    "            previous_transaction_amount = current_transaction_amount\n",
    "        \n",
    "        # Identify maximum increase in the profit change\n",
    "        if max_change < change:\n",
    "            max_change=change\n",
    "            max_month = row[0]\n",
    "        \n",
    "        # Identify minimum increase in the profit change\n",
    "        if min_change > change:\n",
    "            min_change=change\n",
    "            min_month=row[0]"
   ]
  },
  {
   "cell_type": "code",
   "execution_count": 10,
   "id": "fe3e32b1-a42d-4a72-8ebe-60831328ba28",
   "metadata": {},
   "outputs": [],
   "source": [
    "\n",
    "    # Since the number of changes are going to be 1 less than the total records,\n",
    "    # for average change calculation, I am subtracting 1 from row count.\n",
    "    average_change=round((change_total / (row_count - 1)),2)\n"
   ]
  },
  {
   "cell_type": "code",
   "execution_count": 11,
   "id": "2c0c22fa-a83a-461b-a692-c6a5f3073ff8",
   "metadata": {},
   "outputs": [
    {
     "ename": "NameError",
     "evalue": "name 'max_change' is not defined",
     "output_type": "error",
     "traceback": [
      "\u001b[1;31m---------------------------------------------------------------------------\u001b[0m",
      "\u001b[1;31mNameError\u001b[0m                                 Traceback (most recent call last)",
      "\u001b[1;32m<ipython-input-11-04cfd7d7adb4>\u001b[0m in \u001b[0;36m<module>\u001b[1;34m\u001b[0m\n\u001b[0;32m      3\u001b[0m \u001b[0mtransaction_total_line\u001b[0m\u001b[1;33m=\u001b[0m\u001b[1;34mf\"Total: ${transaction_total}\"\u001b[0m\u001b[1;33m\u001b[0m\u001b[1;33m\u001b[0m\u001b[0m\n\u001b[0;32m      4\u001b[0m \u001b[0maverage_change_line\u001b[0m\u001b[1;33m=\u001b[0m\u001b[1;34mf\"Average Change: ${average_change:.2f}\"\u001b[0m\u001b[1;33m\u001b[0m\u001b[1;33m\u001b[0m\u001b[0m\n\u001b[1;32m----> 5\u001b[1;33m \u001b[0mmax_increase_line\u001b[0m\u001b[1;33m=\u001b[0m\u001b[1;34mf\"Greatest Increase in Profits: {max_month} (${max_change})\"\u001b[0m\u001b[1;33m\u001b[0m\u001b[1;33m\u001b[0m\u001b[0m\n\u001b[0m\u001b[0;32m      6\u001b[0m \u001b[0mmin_increase_line\u001b[0m\u001b[1;33m=\u001b[0m\u001b[1;34mf\"Greatest Decrease in Profits: {min_month} (${min_change})\"\u001b[0m\u001b[1;33m\u001b[0m\u001b[1;33m\u001b[0m\u001b[0m\n",
      "\u001b[1;31mNameError\u001b[0m: name 'max_change' is not defined"
     ]
    }
   ],
   "source": [
    "\n",
    "# Calculate required KPIs\n",
    "total_months_line=f\"Total Months: {row_count}\"\n",
    "transaction_total_line=f\"Total: ${transaction_total}\"\n",
    "average_change_line=f\"Average Change: ${average_change:.2f}\"\n",
    "max_increase_line=f\"Greatest Increase in Profits: {max_month} (${max_change})\"\n",
    "min_increase_line=f\"Greatest Decrease in Profits: {min_month} (${min_change})\"\n"
   ]
  },
  {
   "cell_type": "code",
   "execution_count": 12,
   "id": "20d45eaa-a5f3-4d54-b4a8-5dfbd8df98d8",
   "metadata": {},
   "outputs": [
    {
     "ename": "NameError",
     "evalue": "name 'max_increase_line' is not defined",
     "output_type": "error",
     "traceback": [
      "\u001b[1;31m---------------------------------------------------------------------------\u001b[0m",
      "\u001b[1;31mNameError\u001b[0m                                 Traceback (most recent call last)",
      "\u001b[1;32m<ipython-input-12-676ad3bfde6d>\u001b[0m in \u001b[0;36m<module>\u001b[1;34m\u001b[0m\n\u001b[0;32m      1\u001b[0m \u001b[1;31m# Load data into List to print to terminal and to write to file\u001b[0m\u001b[1;33m\u001b[0m\u001b[1;33m\u001b[0m\u001b[1;33m\u001b[0m\u001b[0m\n\u001b[0;32m      2\u001b[0m lines=[total_months_line, transaction_total_line, average_change_line,\n\u001b[1;32m----> 3\u001b[1;33m         max_increase_line, min_increase_line]\n\u001b[0m",
      "\u001b[1;31mNameError\u001b[0m: name 'max_increase_line' is not defined"
     ]
    }
   ],
   "source": [
    "\n",
    "# Load data into List to print to terminal and to write to file\n",
    "lines=[total_months_line, transaction_total_line, average_change_line,\n",
    "        max_increase_line, min_increase_line]\n"
   ]
  },
  {
   "cell_type": "code",
   "execution_count": 13,
   "id": "a3ff1af2-08ba-4afe-900f-5d9a98e064c0",
   "metadata": {},
   "outputs": [],
   "source": [
    "\n",
    "# Write to file and print to terminal together\n",
    "output_file_path = pathlib.Path('Analysis/financial_analysis.txt')\n"
   ]
  },
  {
   "cell_type": "code",
   "execution_count": 14,
   "id": "68a20e65-80ba-495b-ae4b-ae1ea0a9d227",
   "metadata": {},
   "outputs": [
    {
     "name": "stdout",
     "output_type": "stream",
     "text": [
      "--------------------------------------------------\n",
      "    Financial Analysis of Bank Transactions\n",
      "--------------------------------------------------\n"
     ]
    },
    {
     "ename": "NameError",
     "evalue": "name 'lines' is not defined",
     "output_type": "error",
     "traceback": [
      "\u001b[1;31m---------------------------------------------------------------------------\u001b[0m",
      "\u001b[1;31mNameError\u001b[0m                                 Traceback (most recent call last)",
      "\u001b[1;32m<ipython-input-14-dea824e28311>\u001b[0m in \u001b[0;36m<module>\u001b[1;34m\u001b[0m\n\u001b[0;32m      4\u001b[0m     \u001b[0mprint\u001b[0m\u001b[1;33m(\u001b[0m\u001b[0mdash_line\u001b[0m \u001b[1;33m+\u001b[0m \u001b[1;34m\"\\n\"\u001b[0m \u001b[1;33m+\u001b[0m \u001b[0mheader_line\u001b[0m \u001b[1;33m+\u001b[0m \u001b[1;34m\"\\n\"\u001b[0m \u001b[1;33m+\u001b[0m \u001b[0mdash_line\u001b[0m\u001b[1;33m)\u001b[0m\u001b[1;33m\u001b[0m\u001b[1;33m\u001b[0m\u001b[0m\n\u001b[0;32m      5\u001b[0m \u001b[1;33m\u001b[0m\u001b[0m\n\u001b[1;32m----> 6\u001b[1;33m     \u001b[1;32mfor\u001b[0m \u001b[0mline\u001b[0m \u001b[1;32min\u001b[0m \u001b[0mlines\u001b[0m\u001b[1;33m:\u001b[0m\u001b[1;33m\u001b[0m\u001b[1;33m\u001b[0m\u001b[0m\n\u001b[0m\u001b[0;32m      7\u001b[0m         \u001b[0mexport_file\u001b[0m\u001b[1;33m.\u001b[0m\u001b[0mwrite\u001b[0m\u001b[1;33m(\u001b[0m\u001b[0mline\u001b[0m \u001b[1;33m+\u001b[0m \u001b[1;34m\"\\n\"\u001b[0m\u001b[1;33m)\u001b[0m\u001b[1;33m\u001b[0m\u001b[1;33m\u001b[0m\u001b[0m\n\u001b[0;32m      8\u001b[0m         \u001b[0mprint\u001b[0m\u001b[1;33m(\u001b[0m\u001b[0mline\u001b[0m\u001b[1;33m)\u001b[0m\u001b[1;33m\u001b[0m\u001b[1;33m\u001b[0m\u001b[0m\n",
      "\u001b[1;31mNameError\u001b[0m: name 'lines' is not defined"
     ]
    }
   ],
   "source": [
    "\n",
    "with open(output_file_path, 'w') as export_file:\n",
    "\n",
    "    export_file.write(dash_line + \"\\n\" + header_line + \"\\n\" + dash_line + \"\\n\")\n",
    "    print(dash_line + \"\\n\" + header_line + \"\\n\" + dash_line)\n",
    "    \n",
    "    for line in lines:\n",
    "        export_file.write(line + \"\\n\")\n",
    "        print(line)\n",
    "        \n",
    "    export_file.write(dash_line)\n",
    "    print(dash_line)"
   ]
  },
  {
   "cell_type": "code",
   "execution_count": null,
   "id": "aaab2c99-d7e7-4ec7-9a12-c2ae9a01f91c",
   "metadata": {},
   "outputs": [],
   "source": []
  },
  {
   "cell_type": "code",
   "execution_count": null,
   "id": "2b2e360e-9d28-474a-961d-519f302e6db2",
   "metadata": {},
   "outputs": [],
   "source": []
  }
 ],
 "metadata": {
  "kernelspec": {
   "display_name": "Python 3",
   "language": "python",
   "name": "python3"
  },
  "language_info": {
   "codemirror_mode": {
    "name": "ipython",
    "version": 3
   },
   "file_extension": ".py",
   "mimetype": "text/x-python",
   "name": "python",
   "nbconvert_exporter": "python",
   "pygments_lexer": "ipython3",
   "version": "3.8.8"
  }
 },
 "nbformat": 4,
 "nbformat_minor": 5
}
